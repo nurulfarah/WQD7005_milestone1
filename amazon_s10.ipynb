{
 "cells": [
  {
   "cell_type": "code",
   "execution_count": 1,
   "metadata": {},
   "outputs": [],
   "source": [
    "from lxml import html \n",
    "import requests\n",
    "import pandas as pd"
   ]
  },
  {
   "cell_type": "code",
   "execution_count": 15,
   "metadata": {},
   "outputs": [],
   "source": [
    "review_df_s10 = pd.DataFrame()"
   ]
  },
  {
   "cell_type": "code",
   "execution_count": 16,
   "metadata": {},
   "outputs": [],
   "source": [
    "for i in range(1,38):\n",
    "    url1 ='https://www.amazon.com/Samsung-Factory-Unlocked-Warranty-Flamingo/product-reviews/B07NPLWLFC/ref=cm_cr_arp_d_viewopt_srt?ie=UTF8&reviewerType=all_reviews&sortBy=recent&pageNumber=1'\n",
    "    user_agent = 'Mozilla/5.0 (Windows NT 10.0; Win64; x64) AppleWebKit/537.36 (KHTML, like Gecko) Chrome/67.0.3396.99 Safari/537.36'\n",
    "    headers = {'User-Agent' : user_agent}\n",
    "    page = requests.get(url1, headers = headers)\n",
    "    parser = html.fromstring(page.content)\n",
    "    \n",
    "    xpath_reviews = '//div[@data-hook=\"review\"]'\n",
    "    reviews = parser.xpath(xpath_reviews)\n",
    "    xpath_body = './/span[@data-hook=\"review-body\"]//text()'\n",
    "    body = parser.xpath(xpath_body)\n",
    "    \n",
    "    for review in reviews:\n",
    "        body = review.xpath(xpath_body)\n",
    "        review_dict = {'body' : body}\n",
    "        review_df_s10 = review_df_s10.append(review_dict, ignore_index=True)    "
   ]
  },
  {
   "cell_type": "code",
   "execution_count": 17,
   "metadata": {},
   "outputs": [
    {
     "data": {
      "text/html": [
       "<div>\n",
       "<style scoped>\n",
       "    .dataframe tbody tr th:only-of-type {\n",
       "        vertical-align: middle;\n",
       "    }\n",
       "\n",
       "    .dataframe tbody tr th {\n",
       "        vertical-align: top;\n",
       "    }\n",
       "\n",
       "    .dataframe thead th {\n",
       "        text-align: right;\n",
       "    }\n",
       "</style>\n",
       "<table border=\"1\" class=\"dataframe\">\n",
       "  <thead>\n",
       "    <tr style=\"text-align: right;\">\n",
       "      <th></th>\n",
       "      <th>body</th>\n",
       "    </tr>\n",
       "  </thead>\n",
       "  <tbody>\n",
       "    <tr>\n",
       "      <th>0</th>\n",
       "      <td>[\\n\\n\\n\\n\\n\\n\\n\\n  \\n  \\n    , Hello My Name i...</td>\n",
       "    </tr>\n",
       "    <tr>\n",
       "      <th>1</th>\n",
       "      <td>[\\n\\n\\n\\n\\n\\n\\n\\n  \\n  \\n    , I bought this p...</td>\n",
       "    </tr>\n",
       "    <tr>\n",
       "      <th>2</th>\n",
       "      <td>[\\n\\n\\n\\n\\n\\n\\n\\n  \\n  \\n    , Love it, still ...</td>\n",
       "    </tr>\n",
       "    <tr>\n",
       "      <th>3</th>\n",
       "      <td>[\\n\\n\\n\\n\\n\\n\\n\\n  \\n  \\n    , This phone is a...</td>\n",
       "    </tr>\n",
       "    <tr>\n",
       "      <th>4</th>\n",
       "      <td>[\\n\\n\\n\\n\\n\\n\\n\\n  \\n  \\n    , Excellent smart...</td>\n",
       "    </tr>\n",
       "    <tr>\n",
       "      <th>...</th>\n",
       "      <td>...</td>\n",
       "    </tr>\n",
       "    <tr>\n",
       "      <th>328</th>\n",
       "      <td>[\\n\\n\\n\\n\\n\\n\\n\\n  \\n  \\n    , Excellent smart...</td>\n",
       "    </tr>\n",
       "    <tr>\n",
       "      <th>329</th>\n",
       "      <td>[\\n\\n\\n\\n\\n\\n\\n\\n  \\n  \\n    , I took this pho...</td>\n",
       "    </tr>\n",
       "    <tr>\n",
       "      <th>330</th>\n",
       "      <td>[\\n\\n\\n\\n\\n\\n\\n\\n  \\n  \\n    , it's terrible. ...</td>\n",
       "    </tr>\n",
       "    <tr>\n",
       "      <th>331</th>\n",
       "      <td>[\\n\\n\\n\\n\\n\\n\\n\\n  \\n  \\n    , Samsung's custo...</td>\n",
       "    </tr>\n",
       "    <tr>\n",
       "      <th>332</th>\n",
       "      <td>[\\n\\n\\n\\n\\n\\n\\n\\n  \\n  \\n    , I ordered this ...</td>\n",
       "    </tr>\n",
       "  </tbody>\n",
       "</table>\n",
       "<p>333 rows × 1 columns</p>\n",
       "</div>"
      ],
      "text/plain": [
       "                                                  body\n",
       "0    [\\n\\n\\n\\n\\n\\n\\n\\n  \\n  \\n    , Hello My Name i...\n",
       "1    [\\n\\n\\n\\n\\n\\n\\n\\n  \\n  \\n    , I bought this p...\n",
       "2    [\\n\\n\\n\\n\\n\\n\\n\\n  \\n  \\n    , Love it, still ...\n",
       "3    [\\n\\n\\n\\n\\n\\n\\n\\n  \\n  \\n    , This phone is a...\n",
       "4    [\\n\\n\\n\\n\\n\\n\\n\\n  \\n  \\n    , Excellent smart...\n",
       "..                                                 ...\n",
       "328  [\\n\\n\\n\\n\\n\\n\\n\\n  \\n  \\n    , Excellent smart...\n",
       "329  [\\n\\n\\n\\n\\n\\n\\n\\n  \\n  \\n    , I took this pho...\n",
       "330  [\\n\\n\\n\\n\\n\\n\\n\\n  \\n  \\n    , it's terrible. ...\n",
       "331  [\\n\\n\\n\\n\\n\\n\\n\\n  \\n  \\n    , Samsung's custo...\n",
       "332  [\\n\\n\\n\\n\\n\\n\\n\\n  \\n  \\n    , I ordered this ...\n",
       "\n",
       "[333 rows x 1 columns]"
      ]
     },
     "execution_count": 17,
     "metadata": {},
     "output_type": "execute_result"
    }
   ],
   "source": [
    "review_df_s10"
   ]
  },
  {
   "cell_type": "code",
   "execution_count": 18,
   "metadata": {},
   "outputs": [],
   "source": [
    "review_df_s10.to_csv(r'C:\\Users\\user\\Desktop\\Data Science\\Data Mining\\Project\\Smartphone-StockMarket-and-Sentiment-Analysis-2020\\review_s10.txt', header=None, index=None, sep=' ', mode='a') "
   ]
  },
  {
   "cell_type": "code",
   "execution_count": 19,
   "metadata": {},
   "outputs": [],
   "source": [
    "review_df_s10e = pd.DataFrame()"
   ]
  },
  {
   "cell_type": "code",
   "execution_count": 20,
   "metadata": {},
   "outputs": [],
   "source": [
    "for i in range(1,38):\n",
    "    url2 ='https://www.amazon.com/Samsung-Galaxy-Factory-Unlocked-Warranty/product-reviews/B07N4L36H2/ref=cm_cr_arp_d_viewopt_srt?ie=UTF8&reviewerType=all_reviews&sortBy=recent&pageNumber=1'\n",
    "    user_agent = 'Mozilla/5.0 (Windows NT 10.0; Win64; x64) AppleWebKit/537.36 (KHTML, like Gecko) Chrome/67.0.3396.99 Safari/537.36'\n",
    "    headers = {'User-Agent' : user_agent}\n",
    "    page = requests.get(url2, headers = headers)\n",
    "    parser = html.fromstring(page.content)\n",
    "    \n",
    "    xpath_reviews = '//div[@data-hook=\"review\"]'\n",
    "    reviews = parser.xpath(xpath_reviews)\n",
    "    xpath_body = './/span[@data-hook=\"review-body\"]//text()'\n",
    "    body = parser.xpath(xpath_body)\n",
    "    \n",
    "    for review in reviews:\n",
    "        body = review.xpath(xpath_body)\n",
    "        review_dict = {'body' : body}\n",
    "        review_df_s10e = review_df_s10e.append(review_dict, ignore_index=True)    "
   ]
  },
  {
   "cell_type": "code",
   "execution_count": 21,
   "metadata": {},
   "outputs": [
    {
     "data": {
      "text/html": [
       "<div>\n",
       "<style scoped>\n",
       "    .dataframe tbody tr th:only-of-type {\n",
       "        vertical-align: middle;\n",
       "    }\n",
       "\n",
       "    .dataframe tbody tr th {\n",
       "        vertical-align: top;\n",
       "    }\n",
       "\n",
       "    .dataframe thead th {\n",
       "        text-align: right;\n",
       "    }\n",
       "</style>\n",
       "<table border=\"1\" class=\"dataframe\">\n",
       "  <thead>\n",
       "    <tr style=\"text-align: right;\">\n",
       "      <th></th>\n",
       "      <th>body</th>\n",
       "    </tr>\n",
       "  </thead>\n",
       "  <tbody>\n",
       "    <tr>\n",
       "      <th>0</th>\n",
       "      <td>[\\n\\n\\n\\n\\n\\n\\n\\n  \\n  \\n    , Every few years...</td>\n",
       "    </tr>\n",
       "    <tr>\n",
       "      <th>1</th>\n",
       "      <td>[\\n\\n\\n\\n\\n\\n\\n\\n  \\n  \\n    , I am the type o...</td>\n",
       "    </tr>\n",
       "    <tr>\n",
       "      <th>2</th>\n",
       "      <td>[\\n\\n\\n\\n\\n\\n\\n\\n  \\n  \\n    , See your way to...</td>\n",
       "    </tr>\n",
       "    <tr>\n",
       "      <th>3</th>\n",
       "      <td>[\\n\\n\\n\\n\\n\\n\\n\\n  \\n  \\n    , This phone has ...</td>\n",
       "    </tr>\n",
       "    <tr>\n",
       "      <th>4</th>\n",
       "      <td>[\\n\\n\\n\\n\\n\\n\\n\\n  \\n  \\n    , I love my new p...</td>\n",
       "    </tr>\n",
       "    <tr>\n",
       "      <th>...</th>\n",
       "      <td>...</td>\n",
       "    </tr>\n",
       "    <tr>\n",
       "      <th>365</th>\n",
       "      <td>[\\n\\n\\n\\n\\n\\n\\n\\n  \\n  \\n    , Great. Runs fas...</td>\n",
       "    </tr>\n",
       "    <tr>\n",
       "      <th>366</th>\n",
       "      <td>[\\n\\n\\n\\n\\n\\n\\n\\n  \\n  \\n    , My old SIM card...</td>\n",
       "    </tr>\n",
       "    <tr>\n",
       "      <th>367</th>\n",
       "      <td>[\\n\\n\\n\\n\\n\\n\\n\\n  \\n  \\n    , Haven't used fi...</td>\n",
       "    </tr>\n",
       "    <tr>\n",
       "      <th>368</th>\n",
       "      <td>[\\n\\n\\n\\n\\n\\n\\n\\n  \\n  \\n    , The Samsung 10e...</td>\n",
       "    </tr>\n",
       "    <tr>\n",
       "      <th>369</th>\n",
       "      <td>[\\n\\n\\n\\n\\n\\n\\n\\n  \\n  \\n    , Excellent phone...</td>\n",
       "    </tr>\n",
       "  </tbody>\n",
       "</table>\n",
       "<p>370 rows × 1 columns</p>\n",
       "</div>"
      ],
      "text/plain": [
       "                                                  body\n",
       "0    [\\n\\n\\n\\n\\n\\n\\n\\n  \\n  \\n    , Every few years...\n",
       "1    [\\n\\n\\n\\n\\n\\n\\n\\n  \\n  \\n    , I am the type o...\n",
       "2    [\\n\\n\\n\\n\\n\\n\\n\\n  \\n  \\n    , See your way to...\n",
       "3    [\\n\\n\\n\\n\\n\\n\\n\\n  \\n  \\n    , This phone has ...\n",
       "4    [\\n\\n\\n\\n\\n\\n\\n\\n  \\n  \\n    , I love my new p...\n",
       "..                                                 ...\n",
       "365  [\\n\\n\\n\\n\\n\\n\\n\\n  \\n  \\n    , Great. Runs fas...\n",
       "366  [\\n\\n\\n\\n\\n\\n\\n\\n  \\n  \\n    , My old SIM card...\n",
       "367  [\\n\\n\\n\\n\\n\\n\\n\\n  \\n  \\n    , Haven't used fi...\n",
       "368  [\\n\\n\\n\\n\\n\\n\\n\\n  \\n  \\n    , The Samsung 10e...\n",
       "369  [\\n\\n\\n\\n\\n\\n\\n\\n  \\n  \\n    , Excellent phone...\n",
       "\n",
       "[370 rows x 1 columns]"
      ]
     },
     "execution_count": 21,
     "metadata": {},
     "output_type": "execute_result"
    }
   ],
   "source": [
    "review_df_s10e"
   ]
  },
  {
   "cell_type": "code",
   "execution_count": 11,
   "metadata": {},
   "outputs": [],
   "source": [
    "review_df_s10e.to_csv(r'C:\\Users\\user\\Desktop\\Data Science\\Data Mining\\Project\\Smartphone-StockMarket-and-Sentiment-Analysis-2020\\review_s10.txt', header=None, index=None, sep=' ', mode='a') "
   ]
  },
  {
   "cell_type": "code",
   "execution_count": 22,
   "metadata": {},
   "outputs": [],
   "source": [
    "review_df_s10plus= pd.DataFrame()"
   ]
  },
  {
   "cell_type": "code",
   "execution_count": 23,
   "metadata": {},
   "outputs": [],
   "source": [
    "for i in range(1,38):\n",
    "    url3 ='https://www.amazon.com/Samsung-Galaxy-Factory-Unlocked-Warranty/product-reviews/B07YBVTP76/ref=cm_cr_arp_d_viewopt_srt?ie=UTF8&reviewerType=all_reviews&sortBy=recent&pageNumber=1'\n",
    "    user_agent = 'Mozilla/5.0 (Windows NT 10.0; Win64; x64) AppleWebKit/537.36 (KHTML, like Gecko) Chrome/67.0.3396.99 Safari/537.36'\n",
    "    headers = {'User-Agent' : user_agent}\n",
    "    page = requests.get(url3, headers = headers)\n",
    "    parser = html.fromstring(page.content)\n",
    "    \n",
    "    xpath_reviews = '//div[@data-hook=\"review\"]'\n",
    "    reviews = parser.xpath(xpath_reviews)\n",
    "    xpath_body = './/span[@data-hook=\"review-body\"]//text()'\n",
    "    body = parser.xpath(xpath_body)\n",
    "    \n",
    "    for review in reviews:\n",
    "        body = review.xpath(xpath_body)\n",
    "        review_dict = {'body' : body}\n",
    "        review_df_s10plus = review_df_s10plus.append(review_dict, ignore_index=True)    "
   ]
  },
  {
   "cell_type": "code",
   "execution_count": 24,
   "metadata": {},
   "outputs": [
    {
     "data": {
      "text/html": [
       "<div>\n",
       "<style scoped>\n",
       "    .dataframe tbody tr th:only-of-type {\n",
       "        vertical-align: middle;\n",
       "    }\n",
       "\n",
       "    .dataframe tbody tr th {\n",
       "        vertical-align: top;\n",
       "    }\n",
       "\n",
       "    .dataframe thead th {\n",
       "        text-align: right;\n",
       "    }\n",
       "</style>\n",
       "<table border=\"1\" class=\"dataframe\">\n",
       "  <thead>\n",
       "    <tr style=\"text-align: right;\">\n",
       "      <th></th>\n",
       "      <th>body</th>\n",
       "    </tr>\n",
       "  </thead>\n",
       "  <tbody>\n",
       "    <tr>\n",
       "      <th>0</th>\n",
       "      <td>[\\n\\n\\n\\n\\n\\n\\n\\n  \\n  \\n    , My headline sim...</td>\n",
       "    </tr>\n",
       "    <tr>\n",
       "      <th>1</th>\n",
       "      <td>[\\n\\n\\n\\n\\n\\n\\n\\n  \\n  \\n    , Haven't even go...</td>\n",
       "    </tr>\n",
       "    <tr>\n",
       "      <th>2</th>\n",
       "      <td>[\\n\\n\\n\\n\\n\\n\\n\\n  \\n  \\n    , Been using the ...</td>\n",
       "    </tr>\n",
       "    <tr>\n",
       "      <th>3</th>\n",
       "      <td>[\\n\\n\\n\\n\\n\\n\\n\\n  \\n  \\n    , The S10+ is gre...</td>\n",
       "    </tr>\n",
       "    <tr>\n",
       "      <th>4</th>\n",
       "      <td>[\\n\\n\\n\\n\\n\\n\\n\\n  \\n  \\n    , Great buy, \\n  \\n]</td>\n",
       "    </tr>\n",
       "    <tr>\n",
       "      <th>...</th>\n",
       "      <td>...</td>\n",
       "    </tr>\n",
       "    <tr>\n",
       "      <th>365</th>\n",
       "      <td>[\\n\\n\\n\\n\\n\\n\\n\\n  \\n  \\n    , Gave this gift ...</td>\n",
       "    </tr>\n",
       "    <tr>\n",
       "      <th>366</th>\n",
       "      <td>[\\n\\n\\n\\n\\n\\n\\n\\n  \\n  \\n    , Love this phone...</td>\n",
       "    </tr>\n",
       "    <tr>\n",
       "      <th>367</th>\n",
       "      <td>[\\n\\n\\n\\n\\n\\n\\n\\n  \\n  \\n    , Nice phone but ...</td>\n",
       "    </tr>\n",
       "    <tr>\n",
       "      <th>368</th>\n",
       "      <td>[\\n\\n\\n\\n\\n\\n\\n\\n  \\n  \\n    , I feel as expec...</td>\n",
       "    </tr>\n",
       "    <tr>\n",
       "      <th>369</th>\n",
       "      <td>[\\n\\n\\n\\n\\n\\n\\n\\n  \\n  \\n    , phone is awesom...</td>\n",
       "    </tr>\n",
       "  </tbody>\n",
       "</table>\n",
       "<p>370 rows × 1 columns</p>\n",
       "</div>"
      ],
      "text/plain": [
       "                                                  body\n",
       "0    [\\n\\n\\n\\n\\n\\n\\n\\n  \\n  \\n    , My headline sim...\n",
       "1    [\\n\\n\\n\\n\\n\\n\\n\\n  \\n  \\n    , Haven't even go...\n",
       "2    [\\n\\n\\n\\n\\n\\n\\n\\n  \\n  \\n    , Been using the ...\n",
       "3    [\\n\\n\\n\\n\\n\\n\\n\\n  \\n  \\n    , The S10+ is gre...\n",
       "4    [\\n\\n\\n\\n\\n\\n\\n\\n  \\n  \\n    , Great buy, \\n  \\n]\n",
       "..                                                 ...\n",
       "365  [\\n\\n\\n\\n\\n\\n\\n\\n  \\n  \\n    , Gave this gift ...\n",
       "366  [\\n\\n\\n\\n\\n\\n\\n\\n  \\n  \\n    , Love this phone...\n",
       "367  [\\n\\n\\n\\n\\n\\n\\n\\n  \\n  \\n    , Nice phone but ...\n",
       "368  [\\n\\n\\n\\n\\n\\n\\n\\n  \\n  \\n    , I feel as expec...\n",
       "369  [\\n\\n\\n\\n\\n\\n\\n\\n  \\n  \\n    , phone is awesom...\n",
       "\n",
       "[370 rows x 1 columns]"
      ]
     },
     "execution_count": 24,
     "metadata": {},
     "output_type": "execute_result"
    }
   ],
   "source": [
    "review_df_s10plus"
   ]
  },
  {
   "cell_type": "code",
   "execution_count": 25,
   "metadata": {},
   "outputs": [],
   "source": [
    "review_df_s10plus.to_csv(r'C:\\Users\\user\\Desktop\\Data Science\\Data Mining\\Project\\Smartphone-StockMarket-and-Sentiment-Analysis-2020\\review_s10.txt', header=None, index=None, sep=' ', mode='a') "
   ]
  }
 ],
 "metadata": {
  "kernelspec": {
   "display_name": "Python 3",
   "language": "python",
   "name": "python3"
  },
  "language_info": {
   "codemirror_mode": {
    "name": "ipython",
    "version": 3
   },
   "file_extension": ".py",
   "mimetype": "text/x-python",
   "name": "python",
   "nbconvert_exporter": "python",
   "pygments_lexer": "ipython3",
   "version": "3.7.6"
  }
 },
 "nbformat": 4,
 "nbformat_minor": 4
}
