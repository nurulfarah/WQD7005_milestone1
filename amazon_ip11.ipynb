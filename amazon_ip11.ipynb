{
 "cells": [
  {
   "cell_type": "code",
   "execution_count": 1,
   "metadata": {},
   "outputs": [],
   "source": [
    "from lxml import html \n",
    "import requests\n",
    "import pandas as pd"
   ]
  },
  {
   "cell_type": "code",
   "execution_count": 2,
   "metadata": {},
   "outputs": [],
   "source": [
    "review_df_ip11 = pd.DataFrame()"
   ]
  },
  {
   "cell_type": "code",
   "execution_count": 9,
   "metadata": {},
   "outputs": [],
   "source": [
    "for i in range(1,38):\n",
    "    amazon_url ='https://www.amazon.com/Simple-Mobile-Prepaid-Iphone-Carrier/product-reviews/B07XLGMM47/ref=cm_cr_dp_d_show_all_btm?ie=UTF8&reviewerType=all_reviews'\n",
    "    user_agent = 'Mozilla/5.0 (Windows NT 10.0; Win64; x64) AppleWebKit/537.36 (KHTML, like Gecko) Chrome/67.0.3396.99 Safari/537.36'\n",
    "    headers = {'User-Agent' : user_agent}\n",
    "    page = requests.get(amazon_url, headers = headers)\n",
    "    parser = html.fromstring(page.content)\n",
    "    \n",
    "    xpath_reviews = '//div[@data-hook=\"review\"]'\n",
    "    reviews = parser.xpath(xpath_reviews)\n",
    "    xpath_body = './/span[@data-hook=\"review-body\"]//text()'\n",
    "    body = parser.xpath(xpath_body)\n",
    "    \n",
    "    for review in reviews:\n",
    "        body = review.xpath(xpath_body)\n",
    "        review_dict = {'body' : body}\n",
    "        review_df_ip11 = review_df_ip11.append(review_dict, ignore_index=True)    "
   ]
  },
  {
   "cell_type": "code",
   "execution_count": 10,
   "metadata": {},
   "outputs": [
    {
     "data": {
      "text/html": [
       "<div>\n",
       "<style scoped>\n",
       "    .dataframe tbody tr th:only-of-type {\n",
       "        vertical-align: middle;\n",
       "    }\n",
       "\n",
       "    .dataframe tbody tr th {\n",
       "        vertical-align: top;\n",
       "    }\n",
       "\n",
       "    .dataframe thead th {\n",
       "        text-align: right;\n",
       "    }\n",
       "</style>\n",
       "<table border=\"1\" class=\"dataframe\">\n",
       "  <thead>\n",
       "    <tr style=\"text-align: right;\">\n",
       "      <th></th>\n",
       "      <th>body</th>\n",
       "    </tr>\n",
       "  </thead>\n",
       "  <tbody>\n",
       "    <tr>\n",
       "      <th>0</th>\n",
       "      <td>[\\n\\n\\n\\n\\n\\n\\n\\n  \\n  \\n    , Great phone, bu...</td>\n",
       "    </tr>\n",
       "    <tr>\n",
       "      <th>1</th>\n",
       "      <td>[\\n\\n\\n\\n\\n\\n\\n\\n  \\n  \\n    , It is not clear...</td>\n",
       "    </tr>\n",
       "    <tr>\n",
       "      <th>2</th>\n",
       "      <td>[\\n\\n\\n\\n\\n\\n\\n\\n  \\n  \\n    , It’s a good pho...</td>\n",
       "    </tr>\n",
       "    <tr>\n",
       "      <th>3</th>\n",
       "      <td>[\\n\\n\\n\\n\\n\\n\\n\\n  \\n  \\n    , It’s Tmobile an...</td>\n",
       "    </tr>\n",
       "    <tr>\n",
       "      <th>4</th>\n",
       "      <td>[\\n\\n\\n\\n\\n\\n\\n\\n  \\n  \\n    , Good morning, I...</td>\n",
       "    </tr>\n",
       "    <tr>\n",
       "      <th>...</th>\n",
       "      <td>...</td>\n",
       "    </tr>\n",
       "    <tr>\n",
       "      <th>365</th>\n",
       "      <td>[\\n\\n\\n\\n\\n\\n\\n\\n  \\n  \\n    , Have to wait (9...</td>\n",
       "    </tr>\n",
       "    <tr>\n",
       "      <th>366</th>\n",
       "      <td>[\\n\\n\\n\\n\\n\\n\\n\\n  \\n  \\n    , I bought this i...</td>\n",
       "    </tr>\n",
       "    <tr>\n",
       "      <th>367</th>\n",
       "      <td>[\\n\\n\\n\\n\\n\\n\\n\\n  \\n  \\n    , No. I returned ...</td>\n",
       "    </tr>\n",
       "    <tr>\n",
       "      <th>368</th>\n",
       "      <td>[\\n\\n\\n\\n\\n\\n\\n\\n  \\n  \\n    , I cannot get th...</td>\n",
       "    </tr>\n",
       "    <tr>\n",
       "      <th>369</th>\n",
       "      <td>[\\n\\n\\n\\n\\n\\n\\n\\n  \\n  \\n    , Never buy this ...</td>\n",
       "    </tr>\n",
       "  </tbody>\n",
       "</table>\n",
       "<p>370 rows × 1 columns</p>\n",
       "</div>"
      ],
      "text/plain": [
       "                                                  body\n",
       "0    [\\n\\n\\n\\n\\n\\n\\n\\n  \\n  \\n    , Great phone, bu...\n",
       "1    [\\n\\n\\n\\n\\n\\n\\n\\n  \\n  \\n    , It is not clear...\n",
       "2    [\\n\\n\\n\\n\\n\\n\\n\\n  \\n  \\n    , It’s a good pho...\n",
       "3    [\\n\\n\\n\\n\\n\\n\\n\\n  \\n  \\n    , It’s Tmobile an...\n",
       "4    [\\n\\n\\n\\n\\n\\n\\n\\n  \\n  \\n    , Good morning, I...\n",
       "..                                                 ...\n",
       "365  [\\n\\n\\n\\n\\n\\n\\n\\n  \\n  \\n    , Have to wait (9...\n",
       "366  [\\n\\n\\n\\n\\n\\n\\n\\n  \\n  \\n    , I bought this i...\n",
       "367  [\\n\\n\\n\\n\\n\\n\\n\\n  \\n  \\n    , No. I returned ...\n",
       "368  [\\n\\n\\n\\n\\n\\n\\n\\n  \\n  \\n    , I cannot get th...\n",
       "369  [\\n\\n\\n\\n\\n\\n\\n\\n  \\n  \\n    , Never buy this ...\n",
       "\n",
       "[370 rows x 1 columns]"
      ]
     },
     "execution_count": 10,
     "metadata": {},
     "output_type": "execute_result"
    }
   ],
   "source": [
    "review_df_ip11"
   ]
  },
  {
   "cell_type": "code",
   "execution_count": 11,
   "metadata": {},
   "outputs": [],
   "source": [
    "review_df_ip11.to_csv(r'C:\\Users\\user\\Desktop\\Data Science\\Data Mining\\Project\\Smartphone-StockMarket-and-Sentiment-Analysis-2020\\review_ip11.txt', header=None, index=None, sep=' ', mode='a') "
   ]
  },
  {
   "cell_type": "code",
   "execution_count": 21,
   "metadata": {},
   "outputs": [],
   "source": [
    "review_df_ip11pro = pd.DataFrame()"
   ]
  },
  {
   "cell_type": "code",
   "execution_count": 23,
   "metadata": {},
   "outputs": [],
   "source": [
    "for i in range(1,38):\n",
    "    url ='https://www.amazon.com/Simple-Mobile-Prepaid-iPhone-Carrier/product-reviews/B07XSRWD6F/ref=cm_cr_arp_d_viewopt_srt?ie=UTF8&reviewerType=all_reviews&sortBy=recent&pageNumber=1'\n",
    "    user_agent = 'Mozilla/5.0 (Windows NT 10.0; Win64; x64) AppleWebKit/537.36 (KHTML, like Gecko) Chrome/67.0.3396.99 Safari/537.36'\n",
    "    headers = {'User-Agent' : user_agent}\n",
    "    page = requests.get(url, headers = headers)\n",
    "    parser = html.fromstring(page.content)\n",
    "    \n",
    "    xpath_reviews = '//div[@data-hook=\"review\"]'\n",
    "    reviews = parser.xpath(xpath_reviews)\n",
    "    xpath_body = './/span[@data-hook=\"review-body\"]//text()'\n",
    "    body = parser.xpath(xpath_body)\n",
    "    \n",
    "    for review in reviews:\n",
    "        body = review.xpath(xpath_body)\n",
    "        review_dict = {'body' : body}\n",
    "        review_df_ip11pro = review_df_ip11pro.append(review_dict, ignore_index=True)    "
   ]
  },
  {
   "cell_type": "code",
   "execution_count": 24,
   "metadata": {},
   "outputs": [
    {
     "data": {
      "text/html": [
       "<div>\n",
       "<style scoped>\n",
       "    .dataframe tbody tr th:only-of-type {\n",
       "        vertical-align: middle;\n",
       "    }\n",
       "\n",
       "    .dataframe tbody tr th {\n",
       "        vertical-align: top;\n",
       "    }\n",
       "\n",
       "    .dataframe thead th {\n",
       "        text-align: right;\n",
       "    }\n",
       "</style>\n",
       "<table border=\"1\" class=\"dataframe\">\n",
       "  <thead>\n",
       "    <tr style=\"text-align: right;\">\n",
       "      <th></th>\n",
       "      <th>body</th>\n",
       "    </tr>\n",
       "  </thead>\n",
       "  <tbody>\n",
       "    <tr>\n",
       "      <th>0</th>\n",
       "      <td>[\\n\\n\\n\\n\\n\\n\\n\\n  \\n  \\n    , Absolutely love...</td>\n",
       "    </tr>\n",
       "    <tr>\n",
       "      <th>1</th>\n",
       "      <td>[\\n\\n\\n\\n\\n\\n\\n\\n  \\n  \\n    , i didn't even g...</td>\n",
       "    </tr>\n",
       "    <tr>\n",
       "      <th>2</th>\n",
       "      <td>[\\n\\n\\n\\n\\n\\n\\n\\n  \\n  \\n    , Absolutely love...</td>\n",
       "    </tr>\n",
       "    <tr>\n",
       "      <th>3</th>\n",
       "      <td>[\\n\\n\\n\\n\\n\\n\\n\\n  \\n  \\n    , i didn't even g...</td>\n",
       "    </tr>\n",
       "    <tr>\n",
       "      <th>4</th>\n",
       "      <td>[\\n\\n\\n\\n\\n\\n\\n\\n  \\n  \\n    , Absolutely love...</td>\n",
       "    </tr>\n",
       "    <tr>\n",
       "      <th>...</th>\n",
       "      <td>...</td>\n",
       "    </tr>\n",
       "    <tr>\n",
       "      <th>69</th>\n",
       "      <td>[\\n\\n\\n\\n\\n\\n\\n\\n  \\n  \\n    , i didn't even g...</td>\n",
       "    </tr>\n",
       "    <tr>\n",
       "      <th>70</th>\n",
       "      <td>[\\n\\n\\n\\n\\n\\n\\n\\n  \\n  \\n    , Absolutely love...</td>\n",
       "    </tr>\n",
       "    <tr>\n",
       "      <th>71</th>\n",
       "      <td>[\\n\\n\\n\\n\\n\\n\\n\\n  \\n  \\n    , i didn't even g...</td>\n",
       "    </tr>\n",
       "    <tr>\n",
       "      <th>72</th>\n",
       "      <td>[\\n\\n\\n\\n\\n\\n\\n\\n  \\n  \\n    , Absolutely love...</td>\n",
       "    </tr>\n",
       "    <tr>\n",
       "      <th>73</th>\n",
       "      <td>[\\n\\n\\n\\n\\n\\n\\n\\n  \\n  \\n    , i didn't even g...</td>\n",
       "    </tr>\n",
       "  </tbody>\n",
       "</table>\n",
       "<p>74 rows × 1 columns</p>\n",
       "</div>"
      ],
      "text/plain": [
       "                                                 body\n",
       "0   [\\n\\n\\n\\n\\n\\n\\n\\n  \\n  \\n    , Absolutely love...\n",
       "1   [\\n\\n\\n\\n\\n\\n\\n\\n  \\n  \\n    , i didn't even g...\n",
       "2   [\\n\\n\\n\\n\\n\\n\\n\\n  \\n  \\n    , Absolutely love...\n",
       "3   [\\n\\n\\n\\n\\n\\n\\n\\n  \\n  \\n    , i didn't even g...\n",
       "4   [\\n\\n\\n\\n\\n\\n\\n\\n  \\n  \\n    , Absolutely love...\n",
       "..                                                ...\n",
       "69  [\\n\\n\\n\\n\\n\\n\\n\\n  \\n  \\n    , i didn't even g...\n",
       "70  [\\n\\n\\n\\n\\n\\n\\n\\n  \\n  \\n    , Absolutely love...\n",
       "71  [\\n\\n\\n\\n\\n\\n\\n\\n  \\n  \\n    , i didn't even g...\n",
       "72  [\\n\\n\\n\\n\\n\\n\\n\\n  \\n  \\n    , Absolutely love...\n",
       "73  [\\n\\n\\n\\n\\n\\n\\n\\n  \\n  \\n    , i didn't even g...\n",
       "\n",
       "[74 rows x 1 columns]"
      ]
     },
     "execution_count": 24,
     "metadata": {},
     "output_type": "execute_result"
    }
   ],
   "source": [
    "review_df_ip11pro"
   ]
  },
  {
   "cell_type": "code",
   "execution_count": 25,
   "metadata": {},
   "outputs": [],
   "source": [
    "review_df_ip11pro.to_csv(r'C:\\Users\\user\\Desktop\\Data Science\\Data Mining\\Project\\Smartphone-StockMarket-and-Sentiment-Analysis-2020\\review_ip11.txt', header=None, index=None, sep=' ', mode='a') "
   ]
  },
  {
   "cell_type": "code",
   "execution_count": 26,
   "metadata": {},
   "outputs": [],
   "source": [
    "review_df_ip11promax = pd.DataFrame()"
   ]
  },
  {
   "cell_type": "code",
   "execution_count": 27,
   "metadata": {},
   "outputs": [],
   "source": [
    "for i in range(1,38):\n",
    "    a_url ='https://www.amazon.com/Simple-Mobile-Prepaid-iPhone-Carrier/product-reviews/B07XSR5C7B/ref=cm_cr_arp_d_viewopt_srt?ie=UTF8&reviewerType=all_reviews&sortBy=recent&pageNumber=1'\n",
    "    user_agent = 'Mozilla/5.0 (Windows NT 10.0; Win64; x64) AppleWebKit/537.36 (KHTML, like Gecko) Chrome/67.0.3396.99 Safari/537.36'\n",
    "    headers = {'User-Agent' : user_agent}\n",
    "    page = requests.get(a_url, headers = headers)\n",
    "    parser = html.fromstring(page.content)\n",
    "    \n",
    "    xpath_reviews = '//div[@data-hook=\"review\"]'\n",
    "    reviews = parser.xpath(xpath_reviews)\n",
    "    xpath_body = './/span[@data-hook=\"review-body\"]//text()'\n",
    "    body = parser.xpath(xpath_body)\n",
    "    \n",
    "    for review in reviews:\n",
    "        body = review.xpath(xpath_body)\n",
    "        review_dict = {'body' : body}\n",
    "        review_df_ip11promax = review_df_ip11promax.append(review_dict, ignore_index=True)    "
   ]
  },
  {
   "cell_type": "code",
   "execution_count": 28,
   "metadata": {},
   "outputs": [
    {
     "data": {
      "text/html": [
       "<div>\n",
       "<style scoped>\n",
       "    .dataframe tbody tr th:only-of-type {\n",
       "        vertical-align: middle;\n",
       "    }\n",
       "\n",
       "    .dataframe tbody tr th {\n",
       "        vertical-align: top;\n",
       "    }\n",
       "\n",
       "    .dataframe thead th {\n",
       "        text-align: right;\n",
       "    }\n",
       "</style>\n",
       "<table border=\"1\" class=\"dataframe\">\n",
       "  <thead>\n",
       "    <tr style=\"text-align: right;\">\n",
       "      <th></th>\n",
       "      <th>body</th>\n",
       "    </tr>\n",
       "  </thead>\n",
       "  <tbody>\n",
       "    <tr>\n",
       "      <th>0</th>\n",
       "      <td>[\\n\\n\\n\\n\\n\\n\\n\\n  \\n  \\n    , very nice item ...</td>\n",
       "    </tr>\n",
       "    <tr>\n",
       "      <th>1</th>\n",
       "      <td>[\\n\\n\\n\\n\\n\\n\\n\\n  \\n  \\n    , This phone is l...</td>\n",
       "    </tr>\n",
       "    <tr>\n",
       "      <th>2</th>\n",
       "      <td>[\\n\\n\\n\\n\\n\\n\\n\\n  \\n  \\n    , We loved I got ...</td>\n",
       "    </tr>\n",
       "    <tr>\n",
       "      <th>3</th>\n",
       "      <td>[\\n\\n\\n\\n\\n\\n\\n\\n  \\n  \\n    , I love this iPh...</td>\n",
       "    </tr>\n",
       "    <tr>\n",
       "      <th>4</th>\n",
       "      <td>[\\n\\n\\n\\n\\n\\n\\n\\n  \\n  \\n    , This phone is l...</td>\n",
       "    </tr>\n",
       "    <tr>\n",
       "      <th>...</th>\n",
       "      <td>...</td>\n",
       "    </tr>\n",
       "    <tr>\n",
       "      <th>180</th>\n",
       "      <td>[\\n\\n\\n\\n\\n\\n\\n\\n  \\n  \\n    , very nice item ...</td>\n",
       "    </tr>\n",
       "    <tr>\n",
       "      <th>181</th>\n",
       "      <td>[\\n\\n\\n\\n\\n\\n\\n\\n  \\n  \\n    , This phone is l...</td>\n",
       "    </tr>\n",
       "    <tr>\n",
       "      <th>182</th>\n",
       "      <td>[\\n\\n\\n\\n\\n\\n\\n\\n  \\n  \\n    , We loved I got ...</td>\n",
       "    </tr>\n",
       "    <tr>\n",
       "      <th>183</th>\n",
       "      <td>[\\n\\n\\n\\n\\n\\n\\n\\n  \\n  \\n    , I love this iPh...</td>\n",
       "    </tr>\n",
       "    <tr>\n",
       "      <th>184</th>\n",
       "      <td>[\\n\\n\\n\\n\\n\\n\\n\\n  \\n  \\n    , This phone is l...</td>\n",
       "    </tr>\n",
       "  </tbody>\n",
       "</table>\n",
       "<p>185 rows × 1 columns</p>\n",
       "</div>"
      ],
      "text/plain": [
       "                                                  body\n",
       "0    [\\n\\n\\n\\n\\n\\n\\n\\n  \\n  \\n    , very nice item ...\n",
       "1    [\\n\\n\\n\\n\\n\\n\\n\\n  \\n  \\n    , This phone is l...\n",
       "2    [\\n\\n\\n\\n\\n\\n\\n\\n  \\n  \\n    , We loved I got ...\n",
       "3    [\\n\\n\\n\\n\\n\\n\\n\\n  \\n  \\n    , I love this iPh...\n",
       "4    [\\n\\n\\n\\n\\n\\n\\n\\n  \\n  \\n    , This phone is l...\n",
       "..                                                 ...\n",
       "180  [\\n\\n\\n\\n\\n\\n\\n\\n  \\n  \\n    , very nice item ...\n",
       "181  [\\n\\n\\n\\n\\n\\n\\n\\n  \\n  \\n    , This phone is l...\n",
       "182  [\\n\\n\\n\\n\\n\\n\\n\\n  \\n  \\n    , We loved I got ...\n",
       "183  [\\n\\n\\n\\n\\n\\n\\n\\n  \\n  \\n    , I love this iPh...\n",
       "184  [\\n\\n\\n\\n\\n\\n\\n\\n  \\n  \\n    , This phone is l...\n",
       "\n",
       "[185 rows x 1 columns]"
      ]
     },
     "execution_count": 28,
     "metadata": {},
     "output_type": "execute_result"
    }
   ],
   "source": [
    "review_df_ip11promax"
   ]
  },
  {
   "cell_type": "code",
   "execution_count": 29,
   "metadata": {},
   "outputs": [],
   "source": [
    "review_df_ip11pro.to_csv(r'C:\\Users\\user\\Desktop\\Data Science\\Data Mining\\Project\\Smartphone-StockMarket-and-Sentiment-Analysis-2020\\review_ip11.txt', header=None, index=None, sep=' ', mode='a') "
   ]
  }
 ],
 "metadata": {
  "kernelspec": {
   "display_name": "Python 3",
   "language": "python",
   "name": "python3"
  },
  "language_info": {
   "codemirror_mode": {
    "name": "ipython",
    "version": 3
   },
   "file_extension": ".py",
   "mimetype": "text/x-python",
   "name": "python",
   "nbconvert_exporter": "python",
   "pygments_lexer": "ipython3",
   "version": "3.7.6"
  }
 },
 "nbformat": 4,
 "nbformat_minor": 2
}
