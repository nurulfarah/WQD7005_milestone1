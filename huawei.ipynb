{
 "cells": [
  {
   "cell_type": "code",
   "execution_count": 1,
   "metadata": {},
   "outputs": [],
   "source": [
    "import pandas as pd\n",
    "import yfinance as yf\n",
    "from yahoofinancials import YahooFinancials"
   ]
  },
  {
   "cell_type": "code",
   "execution_count": 2,
   "metadata": {},
   "outputs": [
    {
     "data": {
      "text/html": [
       "<div>\n",
       "<style scoped>\n",
       "    .dataframe tbody tr th:only-of-type {\n",
       "        vertical-align: middle;\n",
       "    }\n",
       "\n",
       "    .dataframe tbody tr th {\n",
       "        vertical-align: top;\n",
       "    }\n",
       "\n",
       "    .dataframe thead th {\n",
       "        text-align: right;\n",
       "    }\n",
       "</style>\n",
       "<table border=\"1\" class=\"dataframe\">\n",
       "  <thead>\n",
       "    <tr style=\"text-align: right;\">\n",
       "      <th></th>\n",
       "      <th>Open</th>\n",
       "      <th>High</th>\n",
       "      <th>Low</th>\n",
       "      <th>Close</th>\n",
       "      <th>Adj Close</th>\n",
       "      <th>Volume</th>\n",
       "    </tr>\n",
       "    <tr>\n",
       "      <th>Date</th>\n",
       "      <th></th>\n",
       "      <th></th>\n",
       "      <th></th>\n",
       "      <th></th>\n",
       "      <th></th>\n",
       "      <th></th>\n",
       "    </tr>\n",
       "  </thead>\n",
       "  <tbody>\n",
       "    <tr>\n",
       "      <td>2018-01-02</td>\n",
       "      <td>8.67</td>\n",
       "      <td>8.80</td>\n",
       "      <td>8.67</td>\n",
       "      <td>8.76</td>\n",
       "      <td>8.684743</td>\n",
       "      <td>3857113</td>\n",
       "    </tr>\n",
       "    <tr>\n",
       "      <td>2018-01-03</td>\n",
       "      <td>8.88</td>\n",
       "      <td>8.88</td>\n",
       "      <td>8.74</td>\n",
       "      <td>8.76</td>\n",
       "      <td>8.684743</td>\n",
       "      <td>5303346</td>\n",
       "    </tr>\n",
       "    <tr>\n",
       "      <td>2018-01-04</td>\n",
       "      <td>8.76</td>\n",
       "      <td>8.80</td>\n",
       "      <td>8.64</td>\n",
       "      <td>8.67</td>\n",
       "      <td>8.595515</td>\n",
       "      <td>3435902</td>\n",
       "    </tr>\n",
       "    <tr>\n",
       "      <td>2018-01-05</td>\n",
       "      <td>8.65</td>\n",
       "      <td>8.72</td>\n",
       "      <td>8.65</td>\n",
       "      <td>8.70</td>\n",
       "      <td>8.625257</td>\n",
       "      <td>2710502</td>\n",
       "    </tr>\n",
       "    <tr>\n",
       "      <td>2018-01-08</td>\n",
       "      <td>8.71</td>\n",
       "      <td>8.79</td>\n",
       "      <td>8.67</td>\n",
       "      <td>8.77</td>\n",
       "      <td>8.694657</td>\n",
       "      <td>3773937</td>\n",
       "    </tr>\n",
       "  </tbody>\n",
       "</table>\n",
       "</div>"
      ],
      "text/plain": [
       "            Open  High   Low  Close  Adj Close   Volume\n",
       "Date                                                   \n",
       "2018-01-02  8.67  8.80  8.67   8.76   8.684743  3857113\n",
       "2018-01-03  8.88  8.88  8.74   8.76   8.684743  5303346\n",
       "2018-01-04  8.76  8.80  8.64   8.67   8.595515  3435902\n",
       "2018-01-05  8.65  8.72  8.65   8.70   8.625257  2710502\n",
       "2018-01-08  8.71  8.79  8.67   8.77   8.694657  3773937"
      ]
     },
     "execution_count": 2,
     "metadata": {},
     "output_type": "execute_result"
    }
   ],
   "source": [
    "huawei_df = yf.download('002502.SZ', \n",
    "                      start='2018-01-01', \n",
    "                      end='2019-12-31', \n",
    "                      progress=False)\n",
    "huawei_df.head()"
   ]
  },
  {
   "cell_type": "code",
   "execution_count": 3,
   "metadata": {},
   "outputs": [
    {
     "name": "stdout",
     "output_type": "stream",
     "text": [
      "[*********************100%***********************]  1 of 1 completed\n"
     ]
    }
   ],
   "source": [
    "huawei_df = yf.download('002502.SZ')"
   ]
  },
  {
   "cell_type": "code",
   "execution_count": 4,
   "metadata": {},
   "outputs": [
    {
     "data": {
      "text/html": [
       "<div>\n",
       "<style scoped>\n",
       "    .dataframe tbody tr th:only-of-type {\n",
       "        vertical-align: middle;\n",
       "    }\n",
       "\n",
       "    .dataframe tbody tr th {\n",
       "        vertical-align: top;\n",
       "    }\n",
       "\n",
       "    .dataframe thead th {\n",
       "        text-align: right;\n",
       "    }\n",
       "</style>\n",
       "<table border=\"1\" class=\"dataframe\">\n",
       "  <thead>\n",
       "    <tr style=\"text-align: right;\">\n",
       "      <th></th>\n",
       "      <th>high</th>\n",
       "      <th>low</th>\n",
       "      <th>open</th>\n",
       "      <th>close</th>\n",
       "      <th>volume</th>\n",
       "      <th>adjclose</th>\n",
       "    </tr>\n",
       "    <tr>\n",
       "      <th>formatted_date</th>\n",
       "      <th></th>\n",
       "      <th></th>\n",
       "      <th></th>\n",
       "      <th></th>\n",
       "      <th></th>\n",
       "      <th></th>\n",
       "    </tr>\n",
       "  </thead>\n",
       "  <tbody>\n",
       "    <tr>\n",
       "      <td>2015-01-05</td>\n",
       "      <td>6.270</td>\n",
       "      <td>6.145</td>\n",
       "      <td>6.175</td>\n",
       "      <td>6.265</td>\n",
       "      <td>4490000</td>\n",
       "      <td>6.166256</td>\n",
       "    </tr>\n",
       "    <tr>\n",
       "      <td>2015-01-06</td>\n",
       "      <td>6.780</td>\n",
       "      <td>6.200</td>\n",
       "      <td>6.270</td>\n",
       "      <td>6.760</td>\n",
       "      <td>12360648</td>\n",
       "      <td>6.653455</td>\n",
       "    </tr>\n",
       "    <tr>\n",
       "      <td>2015-01-07</td>\n",
       "      <td>6.875</td>\n",
       "      <td>6.665</td>\n",
       "      <td>6.750</td>\n",
       "      <td>6.745</td>\n",
       "      <td>6468590</td>\n",
       "      <td>6.638691</td>\n",
       "    </tr>\n",
       "    <tr>\n",
       "      <td>2015-01-08</td>\n",
       "      <td>6.740</td>\n",
       "      <td>6.545</td>\n",
       "      <td>6.725</td>\n",
       "      <td>6.560</td>\n",
       "      <td>4034404</td>\n",
       "      <td>6.456607</td>\n",
       "    </tr>\n",
       "    <tr>\n",
       "      <td>2015-01-09</td>\n",
       "      <td>6.900</td>\n",
       "      <td>6.520</td>\n",
       "      <td>6.520</td>\n",
       "      <td>6.770</td>\n",
       "      <td>10186498</td>\n",
       "      <td>6.663297</td>\n",
       "    </tr>\n",
       "  </tbody>\n",
       "</table>\n",
       "</div>"
      ],
      "text/plain": [
       "                 high    low   open  close    volume  adjclose\n",
       "formatted_date                                                \n",
       "2015-01-05      6.270  6.145  6.175  6.265   4490000  6.166256\n",
       "2015-01-06      6.780  6.200  6.270  6.760  12360648  6.653455\n",
       "2015-01-07      6.875  6.665  6.750  6.745   6468590  6.638691\n",
       "2015-01-08      6.740  6.545  6.725  6.560   4034404  6.456607\n",
       "2015-01-09      6.900  6.520  6.520  6.770  10186498  6.663297"
      ]
     },
     "execution_count": 4,
     "metadata": {},
     "output_type": "execute_result"
    }
   ],
   "source": [
    "yahoo_financials = YahooFinancials('002502.SZ')\n",
    "\n",
    "data = yahoo_financials.get_historical_price_data(start_date='2015-01-01', \n",
    "                                                  end_date='2019-12-31', \n",
    "                                                  time_interval='daily')\n",
    "\n",
    "huawei_df = pd.DataFrame(data['002502.SZ']['prices'])\n",
    "huawei_df = huawei_df.drop('date', axis=1).set_index('formatted_date')\n",
    "huawei_df.head()"
   ]
  },
  {
   "cell_type": "code",
   "execution_count": 5,
   "metadata": {},
   "outputs": [],
   "source": [
    "huawei_df.to_csv(r'C:\\Users\\S54076\\Documents\\Jupyter Notebook\\huawei.csv', header=True, index = True) "
   ]
  },
  {
   "cell_type": "code",
   "execution_count": null,
   "metadata": {},
   "outputs": [],
   "source": []
  }
 ],
 "metadata": {
  "kernelspec": {
   "display_name": "Python 3",
   "language": "python",
   "name": "python3"
  },
  "language_info": {
   "codemirror_mode": {
    "name": "ipython",
    "version": 3
   },
   "file_extension": ".py",
   "mimetype": "text/x-python",
   "name": "python",
   "nbconvert_exporter": "python",
   "pygments_lexer": "ipython3",
   "version": "3.7.4"
  }
 },
 "nbformat": 4,
 "nbformat_minor": 2
}
