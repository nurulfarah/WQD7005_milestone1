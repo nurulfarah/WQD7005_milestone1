{
 "cells": [
  {
   "cell_type": "code",
   "execution_count": 1,
   "metadata": {},
   "outputs": [],
   "source": [
    "from lxml import html \n",
    "import requests\n",
    "import pandas as pd"
   ]
  },
  {
   "cell_type": "code",
   "execution_count": 2,
   "metadata": {},
   "outputs": [],
   "source": [
    "review_df_p30pro = pd.DataFrame()"
   ]
  },
  {
   "cell_type": "code",
   "execution_count": 3,
   "metadata": {},
   "outputs": [],
   "source": [
    "for i in range(1,38):\n",
    "    url1 ='https://www.amazon.com/Huawei-Unlocked-Smartphone-International-Warranty/product-reviews/B07PX3ZRJ6/ref=cm_cr_arp_d_viewopt_srt?ie=UTF8&reviewerType=all_reviews&sortBy=recent&pageNumber=1'\n",
    "    user_agent = 'Mozilla/5.0 (Windows NT 10.0; Win64; x64) AppleWebKit/537.36 (KHTML, like Gecko) Chrome/67.0.3396.99 Safari/537.36'\n",
    "    headers = {'User-Agent' : user_agent}\n",
    "    page = requests.get(url1, headers = headers)\n",
    "    parser = html.fromstring(page.content)\n",
    "    \n",
    "    xpath_reviews = '//div[@data-hook=\"review\"]'\n",
    "    reviews = parser.xpath(xpath_reviews)\n",
    "    xpath_body = './/span[@data-hook=\"review-body\"]//text()'\n",
    "    body = parser.xpath(xpath_body)\n",
    "    \n",
    "    for review in reviews:\n",
    "        body = review.xpath(xpath_body)\n",
    "        review_dict = {'body' : body}\n",
    "        review_df_p30pro = review_df_p30pro.append(review_dict, ignore_index=True)    "
   ]
  },
  {
   "cell_type": "code",
   "execution_count": 4,
   "metadata": {},
   "outputs": [
    {
     "data": {
      "text/html": [
       "<div>\n",
       "<style scoped>\n",
       "    .dataframe tbody tr th:only-of-type {\n",
       "        vertical-align: middle;\n",
       "    }\n",
       "\n",
       "    .dataframe tbody tr th {\n",
       "        vertical-align: top;\n",
       "    }\n",
       "\n",
       "    .dataframe thead th {\n",
       "        text-align: right;\n",
       "    }\n",
       "</style>\n",
       "<table border=\"1\" class=\"dataframe\">\n",
       "  <thead>\n",
       "    <tr style=\"text-align: right;\">\n",
       "      <th></th>\n",
       "      <th>body</th>\n",
       "    </tr>\n",
       "  </thead>\n",
       "  <tbody>\n",
       "    <tr>\n",
       "      <th>0</th>\n",
       "      <td>[\\n\\n\\n\\n\\n\\n\\n\\n  \\n  \\n    , I liked, smartp...</td>\n",
       "    </tr>\n",
       "    <tr>\n",
       "      <th>1</th>\n",
       "      <td>[\\n\\n\\n\\n\\n\\n\\n\\n  \\n  \\n    , Easily best hig...</td>\n",
       "    </tr>\n",
       "    <tr>\n",
       "      <th>2</th>\n",
       "      <td>[\\n\\n\\n\\n\\n\\n\\n\\n  \\n  \\n    , I bought it for...</td>\n",
       "    </tr>\n",
       "    <tr>\n",
       "      <th>3</th>\n",
       "      <td>[\\n\\n\\n\\n\\n\\n\\n\\n  \\n  \\n    , Good product, \\...</td>\n",
       "    </tr>\n",
       "    <tr>\n",
       "      <th>4</th>\n",
       "      <td>[\\n\\n\\n\\n\\n\\n\\n\\n  \\n    , Muy buen celular co...</td>\n",
       "    </tr>\n",
       "    <tr>\n",
       "      <th>...</th>\n",
       "      <td>...</td>\n",
       "    </tr>\n",
       "    <tr>\n",
       "      <th>365</th>\n",
       "      <td>[\\n\\n\\n\\n\\n\\n\\n\\n  \\n    , Excelente teléfono,...</td>\n",
       "    </tr>\n",
       "    <tr>\n",
       "      <th>366</th>\n",
       "      <td>[\\n\\n\\n\\n\\n\\n\\n\\n  \\n    , El celular es excel...</td>\n",
       "    </tr>\n",
       "    <tr>\n",
       "      <th>367</th>\n",
       "      <td>[\\n\\n\\n\\n\\n\\n\\n\\n  \\n  \\n    , I hear its a aw...</td>\n",
       "    </tr>\n",
       "    <tr>\n",
       "      <th>368</th>\n",
       "      <td>[\\n\\n\\n\\n\\n\\n\\n\\n  \\n  \\n    , Excelente equip...</td>\n",
       "    </tr>\n",
       "    <tr>\n",
       "      <th>369</th>\n",
       "      <td>[\\n\\n\\n\\n\\n\\n\\n\\n  \\n  \\n    , It's a good pho...</td>\n",
       "    </tr>\n",
       "  </tbody>\n",
       "</table>\n",
       "<p>370 rows × 1 columns</p>\n",
       "</div>"
      ],
      "text/plain": [
       "                                                  body\n",
       "0    [\\n\\n\\n\\n\\n\\n\\n\\n  \\n  \\n    , I liked, smartp...\n",
       "1    [\\n\\n\\n\\n\\n\\n\\n\\n  \\n  \\n    , Easily best hig...\n",
       "2    [\\n\\n\\n\\n\\n\\n\\n\\n  \\n  \\n    , I bought it for...\n",
       "3    [\\n\\n\\n\\n\\n\\n\\n\\n  \\n  \\n    , Good product, \\...\n",
       "4    [\\n\\n\\n\\n\\n\\n\\n\\n  \\n    , Muy buen celular co...\n",
       "..                                                 ...\n",
       "365  [\\n\\n\\n\\n\\n\\n\\n\\n  \\n    , Excelente teléfono,...\n",
       "366  [\\n\\n\\n\\n\\n\\n\\n\\n  \\n    , El celular es excel...\n",
       "367  [\\n\\n\\n\\n\\n\\n\\n\\n  \\n  \\n    , I hear its a aw...\n",
       "368  [\\n\\n\\n\\n\\n\\n\\n\\n  \\n  \\n    , Excelente equip...\n",
       "369  [\\n\\n\\n\\n\\n\\n\\n\\n  \\n  \\n    , It's a good pho...\n",
       "\n",
       "[370 rows x 1 columns]"
      ]
     },
     "execution_count": 4,
     "metadata": {},
     "output_type": "execute_result"
    }
   ],
   "source": [
    "review_df_p30pro"
   ]
  },
  {
   "cell_type": "code",
   "execution_count": 5,
   "metadata": {},
   "outputs": [],
   "source": [
    "review_df_p30pro.to_csv(r'C:\\Users\\user\\Desktop\\Data Science\\Data Mining\\Project\\Smartphone-StockMarket-and-Sentiment-Analysis-2020\\review_p30.txt', header=None, index=None, sep=' ', mode='a') "
   ]
  },
  {
   "cell_type": "code",
   "execution_count": 6,
   "metadata": {},
   "outputs": [],
   "source": [
    "review_df_p30 = pd.DataFrame()"
   ]
  },
  {
   "cell_type": "code",
   "execution_count": 7,
   "metadata": {},
   "outputs": [],
   "source": [
    "for i in range(1,38):\n",
    "    url2 ='https://www.amazon.com/Huawei-ELE-L29-Unlocked-Smartphone-International/product-reviews/B07Q2X19LG/ref=cm_cr_arp_d_viewopt_srt?ie=UTF8&reviewerType=all_reviews&sortBy=recent&pageNumber=1'\n",
    "    user_agent = 'Mozilla/5.0 (Windows NT 10.0; Win64; x64) AppleWebKit/537.36 (KHTML, like Gecko) Chrome/67.0.3396.99 Safari/537.36'\n",
    "    headers = {'User-Agent' : user_agent}\n",
    "    page = requests.get(url2, headers = headers)\n",
    "    parser = html.fromstring(page.content)\n",
    "    \n",
    "    xpath_reviews = '//div[@data-hook=\"review\"]'\n",
    "    reviews = parser.xpath(xpath_reviews)\n",
    "    xpath_body = './/span[@data-hook=\"review-body\"]//text()'\n",
    "    body = parser.xpath(xpath_body)\n",
    "    \n",
    "    for review in reviews:\n",
    "        body = review.xpath(xpath_body)\n",
    "        review_dict = {'body' : body}\n",
    "        review_df_p30 = review_df_p30.append(review_dict, ignore_index=True)    "
   ]
  },
  {
   "cell_type": "code",
   "execution_count": 8,
   "metadata": {},
   "outputs": [
    {
     "data": {
      "text/html": [
       "<div>\n",
       "<style scoped>\n",
       "    .dataframe tbody tr th:only-of-type {\n",
       "        vertical-align: middle;\n",
       "    }\n",
       "\n",
       "    .dataframe tbody tr th {\n",
       "        vertical-align: top;\n",
       "    }\n",
       "\n",
       "    .dataframe thead th {\n",
       "        text-align: right;\n",
       "    }\n",
       "</style>\n",
       "<table border=\"1\" class=\"dataframe\">\n",
       "  <thead>\n",
       "    <tr style=\"text-align: right;\">\n",
       "      <th></th>\n",
       "      <th>body</th>\n",
       "    </tr>\n",
       "  </thead>\n",
       "  <tbody>\n",
       "    <tr>\n",
       "      <th>0</th>\n",
       "      <td>[\\n\\n\\n\\n\\n\\n\\n\\n  \\n  \\n    , Very good and f...</td>\n",
       "    </tr>\n",
       "    <tr>\n",
       "      <th>1</th>\n",
       "      <td>[\\n\\n\\n\\n\\n\\n\\n\\n  \\n  \\n    , good, \\n  \\n]</td>\n",
       "    </tr>\n",
       "    <tr>\n",
       "      <th>2</th>\n",
       "      <td>[\\n\\n\\n\\n\\n\\n\\n\\n  \\n  \\n    , Everything is p...</td>\n",
       "    </tr>\n",
       "    <tr>\n",
       "      <th>3</th>\n",
       "      <td>[\\n\\n\\n\\n\\n\\n\\n\\n  \\n  \\n    , My wife loves t...</td>\n",
       "    </tr>\n",
       "    <tr>\n",
       "      <th>4</th>\n",
       "      <td>[\\n\\n\\n\\n\\n\\n\\n\\n  \\n  \\n    , IF YOU VALUE YO...</td>\n",
       "    </tr>\n",
       "    <tr>\n",
       "      <th>5</th>\n",
       "      <td>[\\n\\n\\n\\n\\n\\n\\n\\n  \\n  \\n    , Not bad on this...</td>\n",
       "    </tr>\n",
       "    <tr>\n",
       "      <th>6</th>\n",
       "      <td>[\\n\\n\\n\\n\\n\\n\\n\\n  \\n  \\n    ,  I am a part ti...</td>\n",
       "    </tr>\n",
       "    <tr>\n",
       "      <th>7</th>\n",
       "      <td>[\\n\\n\\n\\n\\n\\n\\n\\n  \\n  \\n    , I have not open...</td>\n",
       "    </tr>\n",
       "    <tr>\n",
       "      <th>8</th>\n",
       "      <td>[\\n\\n\\n\\n\\n\\n\\n\\n  \\n  \\n    , Excelent, \\n  \\n]</td>\n",
       "    </tr>\n",
       "    <tr>\n",
       "      <th>9</th>\n",
       "      <td>[\\n\\n\\n\\n\\n\\n\\n\\n  \\n  \\n    , Reviewing to ad...</td>\n",
       "    </tr>\n",
       "  </tbody>\n",
       "</table>\n",
       "</div>"
      ],
      "text/plain": [
       "                                                body\n",
       "0  [\\n\\n\\n\\n\\n\\n\\n\\n  \\n  \\n    , Very good and f...\n",
       "1       [\\n\\n\\n\\n\\n\\n\\n\\n  \\n  \\n    , good, \\n  \\n]\n",
       "2  [\\n\\n\\n\\n\\n\\n\\n\\n  \\n  \\n    , Everything is p...\n",
       "3  [\\n\\n\\n\\n\\n\\n\\n\\n  \\n  \\n    , My wife loves t...\n",
       "4  [\\n\\n\\n\\n\\n\\n\\n\\n  \\n  \\n    , IF YOU VALUE YO...\n",
       "5  [\\n\\n\\n\\n\\n\\n\\n\\n  \\n  \\n    , Not bad on this...\n",
       "6  [\\n\\n\\n\\n\\n\\n\\n\\n  \\n  \\n    ,  I am a part ti...\n",
       "7  [\\n\\n\\n\\n\\n\\n\\n\\n  \\n  \\n    , I have not open...\n",
       "8   [\\n\\n\\n\\n\\n\\n\\n\\n  \\n  \\n    , Excelent, \\n  \\n]\n",
       "9  [\\n\\n\\n\\n\\n\\n\\n\\n  \\n  \\n    , Reviewing to ad..."
      ]
     },
     "execution_count": 8,
     "metadata": {},
     "output_type": "execute_result"
    }
   ],
   "source": [
    "review_df_p30"
   ]
  },
  {
   "cell_type": "code",
   "execution_count": 9,
   "metadata": {},
   "outputs": [],
   "source": [
    "review_df_p30.to_csv(r'C:\\Users\\user\\Desktop\\Data Science\\Data Mining\\Project\\Smartphone-StockMarket-and-Sentiment-Analysis-2020\\review_p30.txt', header=None, index=None, sep=' ', mode='a') "
   ]
  }
 ],
 "metadata": {
  "kernelspec": {
   "display_name": "Python 3",
   "language": "python",
   "name": "python3"
  },
  "language_info": {
   "codemirror_mode": {
    "name": "ipython",
    "version": 3
   },
   "file_extension": ".py",
   "mimetype": "text/x-python",
   "name": "python",
   "nbconvert_exporter": "python",
   "pygments_lexer": "ipython3",
   "version": "3.7.4"
  }
 },
 "nbformat": 4,
 "nbformat_minor": 4
}
