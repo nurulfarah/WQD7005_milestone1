{
 "cells": [
  {
   "cell_type": "code",
   "execution_count": 15,
   "metadata": {},
   "outputs": [],
   "source": [
    "import pandas as pd\n",
    "import yfinance as yf\n",
    "from yahoofinancials import YahooFinancials"
   ]
  },
  {
   "cell_type": "code",
   "execution_count": 16,
   "metadata": {},
   "outputs": [
    {
     "data": {
      "text/html": [
       "<div>\n",
       "<style scoped>\n",
       "    .dataframe tbody tr th:only-of-type {\n",
       "        vertical-align: middle;\n",
       "    }\n",
       "\n",
       "    .dataframe tbody tr th {\n",
       "        vertical-align: top;\n",
       "    }\n",
       "\n",
       "    .dataframe thead th {\n",
       "        text-align: right;\n",
       "    }\n",
       "</style>\n",
       "<table border=\"1\" class=\"dataframe\">\n",
       "  <thead>\n",
       "    <tr style=\"text-align: right;\">\n",
       "      <th></th>\n",
       "      <th>Open</th>\n",
       "      <th>High</th>\n",
       "      <th>Low</th>\n",
       "      <th>Close</th>\n",
       "      <th>Adj Close</th>\n",
       "      <th>Volume</th>\n",
       "    </tr>\n",
       "    <tr>\n",
       "      <th>Date</th>\n",
       "      <th></th>\n",
       "      <th></th>\n",
       "      <th></th>\n",
       "      <th></th>\n",
       "      <th></th>\n",
       "      <th></th>\n",
       "    </tr>\n",
       "  </thead>\n",
       "  <tbody>\n",
       "    <tr>\n",
       "      <td>2018-01-03</td>\n",
       "      <td>52540.0</td>\n",
       "      <td>52560.0</td>\n",
       "      <td>51420.0</td>\n",
       "      <td>51620.0</td>\n",
       "      <td>32073.728516</td>\n",
       "      <td>10013500</td>\n",
       "    </tr>\n",
       "    <tr>\n",
       "      <td>2018-01-04</td>\n",
       "      <td>52120.0</td>\n",
       "      <td>52180.0</td>\n",
       "      <td>50640.0</td>\n",
       "      <td>51080.0</td>\n",
       "      <td>31738.205078</td>\n",
       "      <td>11695450</td>\n",
       "    </tr>\n",
       "    <tr>\n",
       "      <td>2018-01-05</td>\n",
       "      <td>51300.0</td>\n",
       "      <td>52120.0</td>\n",
       "      <td>51200.0</td>\n",
       "      <td>52120.0</td>\n",
       "      <td>32384.400391</td>\n",
       "      <td>9481150</td>\n",
       "    </tr>\n",
       "    <tr>\n",
       "      <td>2018-01-08</td>\n",
       "      <td>52400.0</td>\n",
       "      <td>52520.0</td>\n",
       "      <td>51500.0</td>\n",
       "      <td>52020.0</td>\n",
       "      <td>32322.263672</td>\n",
       "      <td>8383650</td>\n",
       "    </tr>\n",
       "    <tr>\n",
       "      <td>2018-01-09</td>\n",
       "      <td>51460.0</td>\n",
       "      <td>51720.0</td>\n",
       "      <td>49980.0</td>\n",
       "      <td>50400.0</td>\n",
       "      <td>31315.691406</td>\n",
       "      <td>18013600</td>\n",
       "    </tr>\n",
       "  </tbody>\n",
       "</table>\n",
       "</div>"
      ],
      "text/plain": [
       "               Open     High      Low    Close     Adj Close    Volume\n",
       "Date                                                                  \n",
       "2018-01-03  52540.0  52560.0  51420.0  51620.0  32073.728516  10013500\n",
       "2018-01-04  52120.0  52180.0  50640.0  51080.0  31738.205078  11695450\n",
       "2018-01-05  51300.0  52120.0  51200.0  52120.0  32384.400391   9481150\n",
       "2018-01-08  52400.0  52520.0  51500.0  52020.0  32322.263672   8383650\n",
       "2018-01-09  51460.0  51720.0  49980.0  50400.0  31315.691406  18013600"
      ]
     },
     "execution_count": 16,
     "metadata": {},
     "output_type": "execute_result"
    }
   ],
   "source": [
    "samsung_df = yf.download('005930.KS', \n",
    "                      start='2018-01-01', \n",
    "                      end='2019-12-31', \n",
    "                      progress=False)\n",
    "samsung_df.head()"
   ]
  },
  {
   "cell_type": "code",
   "execution_count": 17,
   "metadata": {},
   "outputs": [
    {
     "name": "stdout",
     "output_type": "stream",
     "text": [
      "[*********************100%***********************]  1 of 1 completed\n"
     ]
    }
   ],
   "source": [
    "samsung_df = yf.download('002502.SZ')"
   ]
  },
  {
   "cell_type": "code",
   "execution_count": 18,
   "metadata": {},
   "outputs": [
    {
     "data": {
      "text/html": [
       "<div>\n",
       "<style scoped>\n",
       "    .dataframe tbody tr th:only-of-type {\n",
       "        vertical-align: middle;\n",
       "    }\n",
       "\n",
       "    .dataframe tbody tr th {\n",
       "        vertical-align: top;\n",
       "    }\n",
       "\n",
       "    .dataframe thead th {\n",
       "        text-align: right;\n",
       "    }\n",
       "</style>\n",
       "<table border=\"1\" class=\"dataframe\">\n",
       "  <thead>\n",
       "    <tr style=\"text-align: right;\">\n",
       "      <th></th>\n",
       "      <th>high</th>\n",
       "      <th>low</th>\n",
       "      <th>open</th>\n",
       "      <th>close</th>\n",
       "      <th>volume</th>\n",
       "      <th>adjclose</th>\n",
       "    </tr>\n",
       "    <tr>\n",
       "      <th>formatted_date</th>\n",
       "      <th></th>\n",
       "      <th></th>\n",
       "      <th></th>\n",
       "      <th></th>\n",
       "      <th></th>\n",
       "      <th></th>\n",
       "    </tr>\n",
       "  </thead>\n",
       "  <tbody>\n",
       "    <tr>\n",
       "      <td>2015-01-02</td>\n",
       "      <td>26800.0</td>\n",
       "      <td>26540.0</td>\n",
       "      <td>26800.0</td>\n",
       "      <td>26600.0</td>\n",
       "      <td>8774950.0</td>\n",
       "      <td>257.958313</td>\n",
       "    </tr>\n",
       "    <tr>\n",
       "      <td>2015-01-05</td>\n",
       "      <td>26720.0</td>\n",
       "      <td>26260.0</td>\n",
       "      <td>26720.0</td>\n",
       "      <td>26660.0</td>\n",
       "      <td>10139500.0</td>\n",
       "      <td>258.540161</td>\n",
       "    </tr>\n",
       "    <tr>\n",
       "      <td>2015-01-06</td>\n",
       "      <td>26340.0</td>\n",
       "      <td>25760.0</td>\n",
       "      <td>26300.0</td>\n",
       "      <td>25900.0</td>\n",
       "      <td>15235500.0</td>\n",
       "      <td>251.169937</td>\n",
       "    </tr>\n",
       "    <tr>\n",
       "      <td>2015-01-07</td>\n",
       "      <td>26220.0</td>\n",
       "      <td>25640.0</td>\n",
       "      <td>25880.0</td>\n",
       "      <td>26140.0</td>\n",
       "      <td>14322750.0</td>\n",
       "      <td>253.497406</td>\n",
       "    </tr>\n",
       "    <tr>\n",
       "      <td>2015-01-08</td>\n",
       "      <td>26780.0</td>\n",
       "      <td>26200.0</td>\n",
       "      <td>26780.0</td>\n",
       "      <td>26280.0</td>\n",
       "      <td>14477600.0</td>\n",
       "      <td>254.855087</td>\n",
       "    </tr>\n",
       "  </tbody>\n",
       "</table>\n",
       "</div>"
      ],
      "text/plain": [
       "                   high      low     open    close      volume    adjclose\n",
       "formatted_date                                                            \n",
       "2015-01-02      26800.0  26540.0  26800.0  26600.0   8774950.0  257.958313\n",
       "2015-01-05      26720.0  26260.0  26720.0  26660.0  10139500.0  258.540161\n",
       "2015-01-06      26340.0  25760.0  26300.0  25900.0  15235500.0  251.169937\n",
       "2015-01-07      26220.0  25640.0  25880.0  26140.0  14322750.0  253.497406\n",
       "2015-01-08      26780.0  26200.0  26780.0  26280.0  14477600.0  254.855087"
      ]
     },
     "execution_count": 18,
     "metadata": {},
     "output_type": "execute_result"
    }
   ],
   "source": [
    "yahoo_financials = YahooFinancials('005930.KS')\n",
    "\n",
    "data = yahoo_financials.get_historical_price_data(start_date='2015-01-01', \n",
    "                                                  end_date='2019-12-31', \n",
    "                                                  time_interval='daily')\n",
    "\n",
    "samsung_df = pd.DataFrame(data['005930.KS']['prices'])\n",
    "samsung_df = samsung_df.drop('date', axis=1).set_index('formatted_date')\n",
    "samsung_df.head()"
   ]
  },
  {
   "cell_type": "code",
   "execution_count": 19,
   "metadata": {},
   "outputs": [],
   "source": [
    "samsung_df.to_csv(r'C:\\Users\\S54076\\Documents\\Jupyter Notebook\\samsung.csv', header=True, index = True) "
   ]
  }
 ],
 "metadata": {
  "kernelspec": {
   "display_name": "Python 3",
   "language": "python",
   "name": "python3"
  },
  "language_info": {
   "codemirror_mode": {
    "name": "ipython",
    "version": 3
   },
   "file_extension": ".py",
   "mimetype": "text/x-python",
   "name": "python",
   "nbconvert_exporter": "python",
   "pygments_lexer": "ipython3",
   "version": "3.7.4"
  }
 },
 "nbformat": 4,
 "nbformat_minor": 2
}
